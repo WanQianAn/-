{
 "cells": [
  {
   "cell_type": "code",
   "execution_count": null,
   "id": "856ef5c1d94f88bb",
   "metadata": {
    "collapsed": true
   },
   "outputs": [],
   "source": [
    "# 1.\t什么是无监督学习?举例说明(30分)\n",
    "\"\"\"\n",
    "无监督学习是机器学习的一种方式，对于没有标签的数据进行处理常用于降维和聚类\n",
    "举例 ：在商场里我们没有客户信息的情况下，可以根据年龄，性别提取特征用来聚类\n",
    "\"\"\""
   ]
  },
  {
   "metadata": {},
   "cell_type": "code",
   "outputs": [],
   "execution_count": null,
   "source": [
    "\n",
    "# 2.\t什么是由监督学习?举例说明(30分)\n",
    "\"\"\"\n",
    "有监督学习是机器学习的一种方式，对于有标签的数据进行处理常用于回归和分类\n",
    "举例 ：在对邮箱分类，可以分为垃圾邮件和非垃圾邮件 我们根据客户给的标签 进行分类\n",
    "\"\"\""
   ],
   "id": "5d1e0dce4fb65024"
  },
  {
   "metadata": {},
   "cell_type": "code",
   "outputs": [],
   "execution_count": null,
   "source": [
    "# 3.\t监督学习和无监督学习的区别(40分)\n",
    "\"\"\"\n",
    "无监督学习是机器学习的一种方式，对于没有标签的数据进行处理 常用于降维和聚类\n",
    "有监督学习是机器学习的一种方式，对于有标签的数据进行处理   常用于回归和分类\n",
    "\"\"\"\n"
   ],
   "id": "initial_id"
  }
 ],
 "metadata": {
  "kernelspec": {
   "display_name": "Python 3",
   "language": "python",
   "name": "python3"
  },
  "language_info": {
   "codemirror_mode": {
    "name": "ipython",
    "version": 2
   },
   "file_extension": ".py",
   "mimetype": "text/x-python",
   "name": "python",
   "nbconvert_exporter": "python",
   "pygments_lexer": "ipython2",
   "version": "2.7.6"
  }
 },
 "nbformat": 4,
 "nbformat_minor": 5
}
